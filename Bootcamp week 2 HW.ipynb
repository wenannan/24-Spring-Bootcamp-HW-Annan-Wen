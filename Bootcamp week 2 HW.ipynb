{
 "cells": [
  {
   "cell_type": "code",
   "execution_count": 1,
   "id": "0c5dd4e2",
   "metadata": {},
   "outputs": [
    {
     "name": "stdout",
     "output_type": "stream",
     "text": [
      "   Manufacturer    Model     Type\n",
      "0         Acura  Integra    Small\n",
      "20     Chrysler  LeBaron  Compact\n",
      "40        Honda  Prelude   Sporty\n",
      "60      Mercury   Cougar  Midsize\n",
      "80       Subaru   Loyale    Small\n"
     ]
    }
   ],
   "source": [
    "#Task 1\n",
    "import pandas as pd\n",
    "\n",
    "url = 'https://raw.githubusercontent.com/selva86/datasets/master/Cars93_miss.csv'\n",
    "df = pd.read_csv(url)\n",
    "\n",
    "filtered_df = df.loc[::20, ['Manufacturer', 'Model', 'Type']]\n",
    "print(filtered_df)"
   ]
  },
  {
   "cell_type": "code",
   "execution_count": 2,
   "id": "869ca42d",
   "metadata": {},
   "outputs": [
    {
     "name": "stdout",
     "output_type": "stream",
     "text": [
      "   Min.Price  Max.Price\n",
      "0  12.900000  18.800000\n",
      "1  29.200000  38.700000\n",
      "2  25.900000  32.300000\n",
      "3  17.118605  44.600000\n",
      "4  17.118605  21.459091\n"
     ]
    }
   ],
   "source": [
    "#Task 2\n",
    "# Replace missing values in 'Min.Price' and 'Max.Price'\n",
    "df['Min.Price'].fillna(df['Min.Price'].mean(), inplace=True)\n",
    "df['Max.Price'].fillna(df['Max.Price'].mean(), inplace=True)\n",
    "\n",
    "print(df[['Min.Price', 'Max.Price']].head())"
   ]
  },
  {
   "cell_type": "code",
   "execution_count": 3,
   "id": "90e2c732",
   "metadata": {},
   "outputs": [
    {
     "name": "stdout",
     "output_type": "stream",
     "text": [
      "     0   1   2   3\n",
      "0   20  32  37  28\n",
      "1   32  34  12  36\n",
      "5   32  16  32  25\n",
      "6   30  30  24  23\n",
      "9   30  22  15  38\n",
      "12  34  25  34  36\n",
      "13  35  30  37  15\n"
     ]
    }
   ],
   "source": [
    "#Task 3\n",
    "import numpy as np\n",
    "\n",
    "df = pd.DataFrame(np.random.randint(10, 40, 60).reshape(-1, 4))\n",
    "filtered_df = df[df.sum(axis=1) > 100]\n",
    "print(filtered_df)"
   ]
  },
  {
   "cell_type": "code",
   "execution_count": 4,
   "id": "b2e55254",
   "metadata": {},
   "outputs": [
    {
     "data": {
      "text/plain": [
       "(array([[10, 87, 77, 41],\n",
       "        [51, 56, 12, 22],\n",
       "        [61, 39, 61, 40],\n",
       "        [62, 61, 88, 43]]),\n",
       " array([215, 141, 201, 254]),\n",
       " array([215, 141, 201, 254]))"
      ]
     },
     "execution_count": 4,
     "metadata": {},
     "output_type": "execute_result"
    }
   ],
   "source": [
    "#Task 4\n",
    "original_array = np.random.randint(1, 100, size=(4, 4))\n",
    "\n",
    "rows_array = original_array\n",
    "columns_array = original_array.T\n",
    "sum_rows = lambda array: np.sum(array, axis=1)\n",
    "sum_columns = lambda array: np.sum(array, axis=0)\n",
    "\n",
    "row_sums = sum_rows(rows_array)\n",
    "column_sums = sum_columns(columns_array)\n",
    "original_array, row_sums, column_sums"
   ]
  },
  {
   "cell_type": "code",
   "execution_count": null,
   "id": "32a89a2f",
   "metadata": {},
   "outputs": [],
   "source": []
  }
 ],
 "metadata": {
  "kernelspec": {
   "display_name": "Python 3 (ipykernel)",
   "language": "python",
   "name": "python3"
  },
  "language_info": {
   "codemirror_mode": {
    "name": "ipython",
    "version": 3
   },
   "file_extension": ".py",
   "mimetype": "text/x-python",
   "name": "python",
   "nbconvert_exporter": "python",
   "pygments_lexer": "ipython3",
   "version": "3.9.13"
  }
 },
 "nbformat": 4,
 "nbformat_minor": 5
}
