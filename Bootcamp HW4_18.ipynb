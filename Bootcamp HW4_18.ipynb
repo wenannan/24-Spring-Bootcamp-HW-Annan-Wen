{
 "cells": [
  {
   "cell_type": "markdown",
   "id": "c495d776",
   "metadata": {},
   "source": [
    "1. How do you control for biases?"
   ]
  },
  {
   "cell_type": "code",
   "execution_count": 1,
   "id": "0b600a52",
   "metadata": {},
   "outputs": [],
   "source": [
    "#1. Randomization: Assign subjects to different groups randomly to balance known and unknown confounding variables.\n",
    "#2. Blinding: Keep participants, experimenters, and analysts unaware of group assignments to minimize expectation biases.\n",
    "#3. Matching: Pair participants in experimental and control groups based on specific characteristics like age or gender.\n",
    "#4. Statistical Control: Use statistical methods such as regression to adjust for the influence of confounding variables.\n",
    "#5. Replication: Repeat studies to confirm the reliability of results and reduce the impact of random errors.\n",
    "#6. Pre-registration: Define and publicly register the study design and analysis methods before conducting research to prevent data mining biases."
   ]
  },
  {
   "cell_type": "markdown",
   "id": "d3c5ecb1",
   "metadata": {},
   "source": [
    "2. What are confounding variables?"
   ]
  },
  {
   "cell_type": "code",
   "execution_count": 2,
   "id": "0283e20a",
   "metadata": {},
   "outputs": [],
   "source": [
    "#Confounding variables are factors other than the independent variable that might affect the dependent variable in a study, potentially distorting the true relationship between the variables being examined. They can cause false correlations and incorrect conclusions about causality. Identifying and controlling for confounding variables is crucial for accurate research findings."
   ]
  },
  {
   "cell_type": "markdown",
   "id": "ae987a46",
   "metadata": {},
   "source": [
    "3. What is A/B testing?"
   ]
  },
  {
   "cell_type": "code",
   "execution_count": 3,
   "id": "cb643c07",
   "metadata": {},
   "outputs": [],
   "source": [
    "#A/B testing is a method used to compare two versions of a variable to determine which one performs better. Typically used in marketing, web design, and product development, this method involves randomly assigning a sample of users to either the control group (A) or the experimental group (B) and then comparing their responses to a specific metric or outcome. The goal is to identify whether changes in one version lead to statistically significant improvements."
   ]
  },
  {
   "cell_type": "markdown",
   "id": "b68b32d4",
   "metadata": {},
   "source": [
    "4. When will you use Welch t-test?"
   ]
  },
  {
   "cell_type": "code",
   "execution_count": 4,
   "id": "5b473e56",
   "metadata": {},
   "outputs": [],
   "source": [
    "#The Welch t-test is used when comparing the means of two groups that may have unequal variances and possibly unequal sample sizes. It is particularly useful when the assumption of equal variances, required by the standard Student's t-test, does not hold. This makes the Welch t-test a more robust option for testing differences between two independent samples under these conditions."
   ]
  },
  {
   "cell_type": "markdown",
   "id": "af12c711",
   "metadata": {},
   "source": [
    "5. A company claims that the average time its customer service representatives spend on the phone per call is 6 \n",
    "minutes. You believe that the average time is actually higher. You collect a random sample of 50 calls and find \n",
    "that the average time spent on the phone per call in your sample is 6.5 minutes, with a standard deviation of 1.2 \n",
    "minutes. Test whether there is sufficient evidence to support your claim at a significance level of 0.05."
   ]
  },
  {
   "cell_type": "code",
   "execution_count": 5,
   "id": "2293189f",
   "metadata": {},
   "outputs": [
    {
     "name": "stdout",
     "output_type": "stream",
     "text": [
      "t-statistic: 2.946278254943948\n",
      "Critical t-value: 1.6765508919142629\n",
      "p-value: 0.0024555744280253533\n"
     ]
    }
   ],
   "source": [
    "import numpy as np\n",
    "from scipy.stats import t\n",
    "\n",
    "sample_mean = 6.5\n",
    "population_mean = 6\n",
    "sample_std = 1.2\n",
    "sample_size = 50\n",
    "\n",
    "t_statistic = (sample_mean - population_mean) / (sample_std / np.sqrt(sample_size))\n",
    "degrees_of_freedom = sample_size - 1\n",
    "critical_t_value = t.ppf(1 - 0.05, df=degrees_of_freedom)\n",
    "p_value = 1 - t.cdf(t_statistic, df=degrees_of_freedom)\n",
    "\n",
    "print(\"t-statistic:\", t_statistic)\n",
    "print(\"Critical t-value:\", critical_t_value)\n",
    "print(\"p-value:\", p_value)"
   ]
  },
  {
   "cell_type": "code",
   "execution_count": 6,
   "id": "99b31dd5",
   "metadata": {},
   "outputs": [],
   "source": [
    "# These results indicate that we can reject the null hypothesis."
   ]
  },
  {
   "cell_type": "code",
   "execution_count": null,
   "id": "475bdd27",
   "metadata": {},
   "outputs": [],
   "source": []
  },
  {
   "cell_type": "markdown",
   "id": "a9059b08",
   "metadata": {},
   "source": [
    "6. A researcher wants to determine whether there is a difference in the mean scores of two groups of students on a \n",
    "math test. Group A consists of 25 students who received traditional teaching methods, while Group B consists of 30 \n",
    "students who received a new teaching method. The average score for Group A is 75, with a standard deviation of 8, \n",
    "and the average score for Group B is 78, with a standard deviation of 7. Test whether there is a significant \n",
    "difference in the mean scores of the two groups at a significance level of 0.05."
   ]
  },
  {
   "cell_type": "code",
   "execution_count": 7,
   "id": "0424febe",
   "metadata": {},
   "outputs": [
    {
     "data": {
      "text/plain": [
       "(-1.4650132801342768, 0.14941450596390296)"
      ]
     },
     "execution_count": 7,
     "metadata": {},
     "output_type": "execute_result"
    }
   ],
   "source": [
    "from scipy.stats import ttest_ind_from_stats\n",
    "\n",
    "mean_a = 75\n",
    "std_a = 8\n",
    "n_a = 25\n",
    "\n",
    "mean_b = 78\n",
    "std_b = 7\n",
    "n_b = 30\n",
    "\n",
    "t_stat, p_value = ttest_ind_from_stats(mean1=mean_a, std1=std_a, nobs1=n_a,\n",
    "                                       mean2=mean_b, std2=std_b, nobs2=n_b, \n",
    "                                       equal_var=False)  \n",
    "t_stat, p_value"
   ]
  },
  {
   "cell_type": "code",
   "execution_count": 8,
   "id": "fb60e2b2",
   "metadata": {},
   "outputs": [],
   "source": [
    "#These findings suggest that we fail to reject the null hypothesis. "
   ]
  },
  {
   "cell_type": "code",
   "execution_count": null,
   "id": "f899ae28",
   "metadata": {},
   "outputs": [],
   "source": []
  }
 ],
 "metadata": {
  "kernelspec": {
   "display_name": "Python 3 (ipykernel)",
   "language": "python",
   "name": "python3"
  },
  "language_info": {
   "codemirror_mode": {
    "name": "ipython",
    "version": 3
   },
   "file_extension": ".py",
   "mimetype": "text/x-python",
   "name": "python",
   "nbconvert_exporter": "python",
   "pygments_lexer": "ipython3",
   "version": "3.9.13"
  }
 },
 "nbformat": 4,
 "nbformat_minor": 5
}
