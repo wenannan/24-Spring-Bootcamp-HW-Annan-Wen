{
 "cells": [
  {
   "cell_type": "code",
   "execution_count": 1,
   "id": "6f1bee92",
   "metadata": {
    "scrolled": true
   },
   "outputs": [
    {
     "name": "stdout",
     "output_type": "stream",
     "text": [
      "   id            timestamp        country employment_status  job_title  \\\n",
      "0   1  12/11/2018 10:52:26       Slovenia         Full time  Developer   \n",
      "1   2    1/5/2017 16:57:50  United States         Full time        DBA   \n",
      "2   3   12/18/2017 8:13:15         Sweden         Full time        DBA   \n",
      "3   4   12/27/2018 4:56:52  United States         Full time        DBA   \n",
      "4   5  12/11/2018 14:07:58  United States         Full time  Developer   \n",
      "\n",
      "   job_years is_manager  hours_per_week  telecommute_days_per_week  \\\n",
      "0    4.78393        Yes            40.0                        0.0   \n",
      "1    5.00000         No            40.0                        5.0   \n",
      "2    1.00000         No            40.0                        0.0   \n",
      "3    1.00000         No            40.0                        2.0   \n",
      "4    3.00000         No            40.0                        2.0   \n",
      "\n",
      "             education is_education_computer_related certifications  \\\n",
      "0  Bachelors (4 years)                           Yes             No   \n",
      "1  Bachelors (4 years)                           Yes             No   \n",
      "2              Masters                           Yes            Yes   \n",
      "3  Bachelors (4 years)                            No             No   \n",
      "4              Masters                           Yes            Yes   \n",
      "\n",
      "         salary  \n",
      "0   7187.743094  \n",
      "1  10000.000000  \n",
      "2   7000.000000  \n",
      "3   8333.000000  \n",
      "4   7137.000000  \n"
     ]
    }
   ],
   "source": [
    "import pandas as pd\n",
    "\n",
    "file_path = '/Users/wenannan/Desktop/employee.csv'\n",
    "data = pd.read_csv(file_path)\n",
    "\n",
    "print(data.head())"
   ]
  },
  {
   "cell_type": "raw",
   "id": "ef72fa29",
   "metadata": {},
   "source": [
    "# Queation 1"
   ]
  },
  {
   "cell_type": "code",
   "execution_count": 2,
   "id": "a1d4496b",
   "metadata": {
    "scrolled": false
   },
   "outputs": [
    {
     "name": "stdout",
     "output_type": "stream",
     "text": [
      "<class 'pandas.core.frame.DataFrame'>\n",
      "RangeIndex: 4277 entries, 0 to 4276\n",
      "Data columns (total 13 columns):\n",
      " #   Column                         Non-Null Count  Dtype  \n",
      "---  ------                         --------------  -----  \n",
      " 0   id                             4277 non-null   int64  \n",
      " 1   timestamp                      4277 non-null   object \n",
      " 2   country                        4277 non-null   object \n",
      " 3   employment_status              4277 non-null   object \n",
      " 4   job_title                      4277 non-null   object \n",
      " 5   job_years                      4277 non-null   float64\n",
      " 6   is_manager                     4277 non-null   object \n",
      " 7   hours_per_week                 4260 non-null   float64\n",
      " 8   telecommute_days_per_week      4266 non-null   float64\n",
      " 9   education                      4277 non-null   object \n",
      " 10  is_education_computer_related  4261 non-null   object \n",
      " 11  certifications                 4277 non-null   object \n",
      " 12  salary                         4277 non-null   float64\n",
      "dtypes: float64(4), int64(1), object(8)\n",
      "memory usage: 434.5+ KB\n",
      "None\n"
     ]
    }
   ],
   "source": [
    "print(data.info())"
   ]
  },
  {
   "cell_type": "code",
   "execution_count": 3,
   "id": "d6a495da",
   "metadata": {},
   "outputs": [
    {
     "name": "stdout",
     "output_type": "stream",
     "text": [
      "<class 'pandas.core.frame.DataFrame'>\n",
      "RangeIndex: 4277 entries, 0 to 4276\n",
      "Data columns (total 13 columns):\n",
      " #   Column                         Non-Null Count  Dtype  \n",
      "---  ------                         --------------  -----  \n",
      " 0   id                             4277 non-null   int64  \n",
      " 1   timestamp                      4277 non-null   object \n",
      " 2   country                        4277 non-null   object \n",
      " 3   employment_status              4277 non-null   object \n",
      " 4   job_title                      4277 non-null   object \n",
      " 5   job_years                      4277 non-null   float64\n",
      " 6   is_manager                     4277 non-null   object \n",
      " 7   hours_per_week                 4277 non-null   float64\n",
      " 8   telecommute_days_per_week      4277 non-null   float64\n",
      " 9   education                      4277 non-null   object \n",
      " 10  is_education_computer_related  4277 non-null   object \n",
      " 11  certifications                 4277 non-null   object \n",
      " 12  salary                         4277 non-null   float64\n",
      "dtypes: float64(4), int64(1), object(8)\n",
      "memory usage: 434.5+ KB\n"
     ]
    }
   ],
   "source": [
    "mean_hours_per_week = data['hours_per_week'].mean()\n",
    "mean_telecommute_days_per_week = data['telecommute_days_per_week'].mean()\n",
    "\n",
    "mode_is_education_computer_related = data['is_education_computer_related'].mode()[0]\n",
    "\n",
    "data['hours_per_week'].fillna(mean_hours_per_week, inplace=True)\n",
    "data['telecommute_days_per_week'].fillna(mean_telecommute_days_per_week, inplace=True)\n",
    "data['is_education_computer_related'].fillna(mode_is_education_computer_related, inplace=True)\n",
    "\n",
    "data.info()"
   ]
  },
  {
   "cell_type": "code",
   "execution_count": 4,
   "id": "991d8e9d",
   "metadata": {},
   "outputs": [
    {
     "name": "stdout",
     "output_type": "stream",
     "text": [
      "Index(['id', 'timestamp', 'country', 'employment_status', 'job_title',\n",
      "       'job_years', 'is_manager', 'hours_per_week',\n",
      "       'telecommute_days_per_week', 'education',\n",
      "       'is_education_computer_related', 'certifications', 'salary'],\n",
      "      dtype='object')\n"
     ]
    }
   ],
   "source": [
    "print(data.columns)"
   ]
  },
  {
   "cell_type": "code",
   "execution_count": 5,
   "id": "e4b82479",
   "metadata": {},
   "outputs": [
    {
     "data": {
      "text/html": [
       "<div>\n",
       "<style scoped>\n",
       "    .dataframe tbody tr th:only-of-type {\n",
       "        vertical-align: middle;\n",
       "    }\n",
       "\n",
       "    .dataframe tbody tr th {\n",
       "        vertical-align: top;\n",
       "    }\n",
       "\n",
       "    .dataframe thead th {\n",
       "        text-align: right;\n",
       "    }\n",
       "</style>\n",
       "<table border=\"1\" class=\"dataframe\">\n",
       "  <thead>\n",
       "    <tr style=\"text-align: right;\">\n",
       "      <th></th>\n",
       "      <th>id</th>\n",
       "      <th>timestamp</th>\n",
       "      <th>job_title</th>\n",
       "      <th>job_years</th>\n",
       "      <th>is_manager</th>\n",
       "      <th>hours_per_week</th>\n",
       "      <th>telecommute_days_per_week</th>\n",
       "      <th>education</th>\n",
       "      <th>is_education_computer_related</th>\n",
       "      <th>certifications</th>\n",
       "      <th>...</th>\n",
       "      <th>country_Ukraine</th>\n",
       "      <th>country_United Arab Emirates</th>\n",
       "      <th>country_United Kingdom</th>\n",
       "      <th>country_United States</th>\n",
       "      <th>country_Uruguay</th>\n",
       "      <th>country_Venezuela</th>\n",
       "      <th>country_Vietnam</th>\n",
       "      <th>employment_status_Full time</th>\n",
       "      <th>employment_status_Independent or freelancer or company owner</th>\n",
       "      <th>employment_status_Part time</th>\n",
       "    </tr>\n",
       "  </thead>\n",
       "  <tbody>\n",
       "    <tr>\n",
       "      <th>0</th>\n",
       "      <td>1</td>\n",
       "      <td>12/11/2018 10:52:26</td>\n",
       "      <td>Developer</td>\n",
       "      <td>4.78393</td>\n",
       "      <td>Yes</td>\n",
       "      <td>-0.490579</td>\n",
       "      <td>-0.627669</td>\n",
       "      <td>Bachelors (4 years)</td>\n",
       "      <td>Yes</td>\n",
       "      <td>No</td>\n",
       "      <td>...</td>\n",
       "      <td>0.0</td>\n",
       "      <td>0.0</td>\n",
       "      <td>0.0</td>\n",
       "      <td>0.0</td>\n",
       "      <td>0.0</td>\n",
       "      <td>0.0</td>\n",
       "      <td>0.0</td>\n",
       "      <td>1.0</td>\n",
       "      <td>0.0</td>\n",
       "      <td>0.0</td>\n",
       "    </tr>\n",
       "    <tr>\n",
       "      <th>1</th>\n",
       "      <td>2</td>\n",
       "      <td>1/5/2017 16:57:50</td>\n",
       "      <td>DBA</td>\n",
       "      <td>5.00000</td>\n",
       "      <td>No</td>\n",
       "      <td>-0.490579</td>\n",
       "      <td>2.404762</td>\n",
       "      <td>Bachelors (4 years)</td>\n",
       "      <td>Yes</td>\n",
       "      <td>No</td>\n",
       "      <td>...</td>\n",
       "      <td>0.0</td>\n",
       "      <td>0.0</td>\n",
       "      <td>0.0</td>\n",
       "      <td>1.0</td>\n",
       "      <td>0.0</td>\n",
       "      <td>0.0</td>\n",
       "      <td>0.0</td>\n",
       "      <td>1.0</td>\n",
       "      <td>0.0</td>\n",
       "      <td>0.0</td>\n",
       "    </tr>\n",
       "    <tr>\n",
       "      <th>2</th>\n",
       "      <td>3</td>\n",
       "      <td>12/18/2017 8:13:15</td>\n",
       "      <td>DBA</td>\n",
       "      <td>1.00000</td>\n",
       "      <td>No</td>\n",
       "      <td>-0.490579</td>\n",
       "      <td>-0.627669</td>\n",
       "      <td>Masters</td>\n",
       "      <td>Yes</td>\n",
       "      <td>Yes</td>\n",
       "      <td>...</td>\n",
       "      <td>0.0</td>\n",
       "      <td>0.0</td>\n",
       "      <td>0.0</td>\n",
       "      <td>0.0</td>\n",
       "      <td>0.0</td>\n",
       "      <td>0.0</td>\n",
       "      <td>0.0</td>\n",
       "      <td>1.0</td>\n",
       "      <td>0.0</td>\n",
       "      <td>0.0</td>\n",
       "    </tr>\n",
       "    <tr>\n",
       "      <th>3</th>\n",
       "      <td>4</td>\n",
       "      <td>12/27/2018 4:56:52</td>\n",
       "      <td>DBA</td>\n",
       "      <td>1.00000</td>\n",
       "      <td>No</td>\n",
       "      <td>-0.490579</td>\n",
       "      <td>0.585303</td>\n",
       "      <td>Bachelors (4 years)</td>\n",
       "      <td>No</td>\n",
       "      <td>No</td>\n",
       "      <td>...</td>\n",
       "      <td>0.0</td>\n",
       "      <td>0.0</td>\n",
       "      <td>0.0</td>\n",
       "      <td>1.0</td>\n",
       "      <td>0.0</td>\n",
       "      <td>0.0</td>\n",
       "      <td>0.0</td>\n",
       "      <td>1.0</td>\n",
       "      <td>0.0</td>\n",
       "      <td>0.0</td>\n",
       "    </tr>\n",
       "    <tr>\n",
       "      <th>4</th>\n",
       "      <td>5</td>\n",
       "      <td>12/11/2018 14:07:58</td>\n",
       "      <td>Developer</td>\n",
       "      <td>3.00000</td>\n",
       "      <td>No</td>\n",
       "      <td>-0.490579</td>\n",
       "      <td>0.585303</td>\n",
       "      <td>Masters</td>\n",
       "      <td>Yes</td>\n",
       "      <td>Yes</td>\n",
       "      <td>...</td>\n",
       "      <td>0.0</td>\n",
       "      <td>0.0</td>\n",
       "      <td>0.0</td>\n",
       "      <td>1.0</td>\n",
       "      <td>0.0</td>\n",
       "      <td>0.0</td>\n",
       "      <td>0.0</td>\n",
       "      <td>1.0</td>\n",
       "      <td>0.0</td>\n",
       "      <td>0.0</td>\n",
       "    </tr>\n",
       "  </tbody>\n",
       "</table>\n",
       "<p>5 rows × 92 columns</p>\n",
       "</div>"
      ],
      "text/plain": [
       "   id            timestamp  job_title  job_years is_manager  hours_per_week  \\\n",
       "0   1  12/11/2018 10:52:26  Developer    4.78393        Yes       -0.490579   \n",
       "1   2    1/5/2017 16:57:50        DBA    5.00000         No       -0.490579   \n",
       "2   3   12/18/2017 8:13:15        DBA    1.00000         No       -0.490579   \n",
       "3   4   12/27/2018 4:56:52        DBA    1.00000         No       -0.490579   \n",
       "4   5  12/11/2018 14:07:58  Developer    3.00000         No       -0.490579   \n",
       "\n",
       "   telecommute_days_per_week            education  \\\n",
       "0                  -0.627669  Bachelors (4 years)   \n",
       "1                   2.404762  Bachelors (4 years)   \n",
       "2                  -0.627669              Masters   \n",
       "3                   0.585303  Bachelors (4 years)   \n",
       "4                   0.585303              Masters   \n",
       "\n",
       "  is_education_computer_related certifications  ...  country_Ukraine  \\\n",
       "0                           Yes             No  ...              0.0   \n",
       "1                           Yes             No  ...              0.0   \n",
       "2                           Yes            Yes  ...              0.0   \n",
       "3                            No             No  ...              0.0   \n",
       "4                           Yes            Yes  ...              0.0   \n",
       "\n",
       "   country_United Arab Emirates  country_United Kingdom  \\\n",
       "0                           0.0                     0.0   \n",
       "1                           0.0                     0.0   \n",
       "2                           0.0                     0.0   \n",
       "3                           0.0                     0.0   \n",
       "4                           0.0                     0.0   \n",
       "\n",
       "   country_United States  country_Uruguay  country_Venezuela  country_Vietnam  \\\n",
       "0                    0.0              0.0                0.0              0.0   \n",
       "1                    1.0              0.0                0.0              0.0   \n",
       "2                    0.0              0.0                0.0              0.0   \n",
       "3                    1.0              0.0                0.0              0.0   \n",
       "4                    1.0              0.0                0.0              0.0   \n",
       "\n",
       "   employment_status_Full time  \\\n",
       "0                          1.0   \n",
       "1                          1.0   \n",
       "2                          1.0   \n",
       "3                          1.0   \n",
       "4                          1.0   \n",
       "\n",
       "   employment_status_Independent or freelancer or company owner  \\\n",
       "0                                                0.0              \n",
       "1                                                0.0              \n",
       "2                                                0.0              \n",
       "3                                                0.0              \n",
       "4                                                0.0              \n",
       "\n",
       "   employment_status_Part time  \n",
       "0                          0.0  \n",
       "1                          0.0  \n",
       "2                          0.0  \n",
       "3                          0.0  \n",
       "4                          0.0  \n",
       "\n",
       "[5 rows x 92 columns]"
      ]
     },
     "execution_count": 5,
     "metadata": {},
     "output_type": "execute_result"
    }
   ],
   "source": [
    "from sklearn.preprocessing import OneHotEncoder, StandardScaler\n",
    "\n",
    "encoder = OneHotEncoder(sparse=False)\n",
    "columns_to_encode = ['country', 'employment_status']\n",
    "encoded_features = encoder.fit_transform(data[columns_to_encode])\n",
    "encoded_feature_names = encoder.get_feature_names_out(columns_to_encode)\n",
    "encoded_df = pd.DataFrame(encoded_features, columns=encoded_feature_names)\n",
    "\n",
    "data = pd.concat([data, encoded_df], axis=1)\n",
    "data.drop(columns_to_encode, axis=1, inplace=True)\n",
    "\n",
    "scaler = StandardScaler()\n",
    "data[['hours_per_week', 'telecommute_days_per_week']] = scaler.fit_transform(data[['hours_per_week', 'telecommute_days_per_week']])\n",
    "\n",
    "data.head()"
   ]
  },
  {
   "cell_type": "code",
   "execution_count": 6,
   "id": "88d3fb48",
   "metadata": {},
   "outputs": [
    {
     "name": "stdout",
     "output_type": "stream",
     "text": [
      "           Actual     Predicted\n",
      "544   7179.575611 -5.767445e+16\n",
      "410   8160.501009 -1.370338e+15\n",
      "2554  7052.091833 -1.856170e+16\n",
      "1281  7500.000000 -1.466208e+14\n",
      "598   6000.000000  1.348572e+16\n"
     ]
    }
   ],
   "source": [
    "import pandas as pd\n",
    "import numpy as np\n",
    "from sklearn.model_selection import train_test_split\n",
    "from sklearn.linear_model import LinearRegression\n",
    "from sklearn.preprocessing import OneHotEncoder, StandardScaler\n",
    "\n",
    "non_numeric_columns = data.select_dtypes(exclude=[np.number]).columns.tolist()\n",
    "\n",
    "yes_no_columns = [col for col in non_numeric_columns if data[col].dropna().str.contains('Yes|No').all()]\n",
    "for col in yes_no_columns:\n",
    "    data[col] = data[col].map({'Yes': 1, 'No': 0})\n",
    "\n",
    "non_numeric_columns = [col for col in non_numeric_columns if col not in yes_no_columns]\n",
    "\n",
    "if non_numeric_columns:\n",
    "    encoder = OneHotEncoder(sparse=False)\n",
    "    encoded_features = encoder.fit_transform(data[non_numeric_columns])\n",
    "    encoded_feature_names = encoder.get_feature_names_out(non_numeric_columns)\n",
    "    encoded_df = pd.DataFrame(encoded_features, columns=encoded_feature_names)\n",
    "    data = pd.concat([data, encoded_df], axis=1)\n",
    "    data.drop(non_numeric_columns, axis=1, inplace=True)\n",
    "\n",
    "continuous_columns = data.select_dtypes(include=[np.number]).columns.tolist()\n",
    "continuous_columns.remove('id') \n",
    "continuous_columns.remove('salary') \n",
    "scaler = StandardScaler()\n",
    "data[continuous_columns] = scaler.fit_transform(data[continuous_columns])\n",
    "\n",
    "X = data.drop(['id', 'salary'], axis=1)\n",
    "y = data['salary']\n",
    "X_train, X_test, y_train, y_test = train_test_split(X, y, test_size=0.2, random_state=42)\n",
    "\n",
    "model = LinearRegression()\n",
    "model.fit(X_train, y_train)\n",
    "\n",
    "y_pred = model.predict(X_test)\n",
    "predictions = pd.DataFrame({\n",
    "    'Actual': y_test,\n",
    "    'Predicted': y_pred\n",
    "})\n",
    "\n",
    "print(predictions.head())\n"
   ]
  },
  {
   "cell_type": "code",
   "execution_count": null,
   "id": "7ba5b9a6",
   "metadata": {},
   "outputs": [],
   "source": []
  },
  {
   "cell_type": "raw",
   "id": "077d70f8",
   "metadata": {},
   "source": [
    "# Queation 2"
   ]
  },
  {
   "cell_type": "code",
   "execution_count": 7,
   "id": "4eaf1de2",
   "metadata": {},
   "outputs": [
    {
     "name": "stdout",
     "output_type": "stream",
     "text": [
      "Mean Absolute Error (MAE): 1.1399306458338008e+16\n",
      "Mean Squared Error (MSE): 2.307902364682562e+33\n",
      "Root Mean Squared Error (RMSE): 4.8040632434248424e+16\n"
     ]
    }
   ],
   "source": [
    "from sklearn.metrics import mean_absolute_error, mean_squared_error\n",
    "import numpy as np\n",
    "\n",
    "y_true = y_test\n",
    "y_pred = model.predict(X_test)\n",
    "\n",
    "# MAE\n",
    "mae = mean_absolute_error(y_true, y_pred)\n",
    "print(f\"Mean Absolute Error (MAE): {mae}\")\n",
    "\n",
    "# MSE\n",
    "mse = mean_squared_error(y_true, y_pred)\n",
    "print(f\"Mean Squared Error (MSE): {mse}\")\n",
    "\n",
    "# RMSE\n",
    "rmse = np.sqrt(mse)\n",
    "print(f\"Root Mean Squared Error (RMSE): {rmse}\")"
   ]
  },
  {
   "cell_type": "code",
   "execution_count": null,
   "id": "7736c317",
   "metadata": {},
   "outputs": [],
   "source": []
  },
  {
   "cell_type": "raw",
   "id": "dd794add",
   "metadata": {},
   "source": [
    "# Queation 3"
   ]
  },
  {
   "cell_type": "code",
   "execution_count": 8,
   "id": "d836a7ba",
   "metadata": {},
   "outputs": [
    {
     "name": "stdout",
     "output_type": "stream",
     "text": [
      "Ridge Regression MAE: 1299.8741631475532\n",
      "Ridge Regression MSE: 2851096.3923194185\n"
     ]
    }
   ],
   "source": [
    "from sklearn.linear_model import Ridge\n",
    "from sklearn.metrics import mean_absolute_error, mean_squared_error\n",
    "\n",
    "ridge_model = Ridge(alpha=1.0)  # alpha 是正则化强度\n",
    "ridge_model.fit(X_train, y_train)\n",
    "\n",
    "y_pred_ridge = ridge_model.predict(X_test)\n",
    "\n",
    "mae_ridge = mean_absolute_error(y_test, y_pred_ridge)\n",
    "mse_ridge = mean_squared_error(y_test, y_pred_ridge)\n",
    "print(f\"Ridge Regression MAE: {mae_ridge}\")\n",
    "print(f\"Ridge Regression MSE: {mse_ridge}\")"
   ]
  },
  {
   "cell_type": "code",
   "execution_count": 9,
   "id": "133e57f3",
   "metadata": {},
   "outputs": [
    {
     "name": "stdout",
     "output_type": "stream",
     "text": [
      "Lasso Regression MAE: 924.8218013837142\n",
      "Lasso Regression MSE: 1640403.374353172\n"
     ]
    },
    {
     "name": "stderr",
     "output_type": "stream",
     "text": [
      "/Users/wenannan/opt/anaconda3/lib/python3.9/site-packages/sklearn/linear_model/_coordinate_descent.py:647: ConvergenceWarning: Objective did not converge. You might want to increase the number of iterations, check the scale of the features or consider increasing regularisation. Duality gap: 6.389e+06, tolerance: 5.865e+05\n",
      "  model = cd_fast.enet_coordinate_descent(\n"
     ]
    }
   ],
   "source": [
    "from sklearn.linear_model import Lasso\n",
    "\n",
    "lasso_model = Lasso(alpha=0.1)\n",
    "lasso_model.fit(X_train, y_train)\n",
    "\n",
    "y_pred_lasso = lasso_model.predict(X_test)\n",
    "\n",
    "mae_lasso = mean_absolute_error(y_test, y_pred_lasso)\n",
    "mse_lasso = mean_squared_error(y_test, y_pred_lasso)\n",
    "print(f\"Lasso Regression MAE: {mae_lasso}\")\n",
    "print(f\"Lasso Regression MSE: {mse_lasso}\")"
   ]
  },
  {
   "cell_type": "code",
   "execution_count": 10,
   "id": "82e0597c",
   "metadata": {},
   "outputs": [
    {
     "name": "stdout",
     "output_type": "stream",
     "text": [
      "Linear Regression MAE: 1.1399306458338008e+16\n",
      "Linear Regression MSE: 2.307902364682562e+33\n",
      "\n",
      "Model Performance Comparison:\n",
      "Linear Regression MAE: 1.1399306458338008e+16, MSE: 2.307902364682562e+33\n",
      "Ridge Regression MAE: 1299.8741631475532, MSE: 2851096.3923194185\n",
      "Lasso Regression MAE: 924.8218013837142, MSE: 1640403.374353172\n"
     ]
    }
   ],
   "source": [
    "print(f\"Linear Regression MAE: {mae}\")\n",
    "print(f\"Linear Regression MSE: {mse}\")\n",
    "\n",
    "print(\"\\nModel Performance Comparison:\")\n",
    "print(f\"Linear Regression MAE: {mae}, MSE: {mse}\")\n",
    "print(f\"Ridge Regression MAE: {mae_ridge}, MSE: {mse_ridge}\")\n",
    "print(f\"Lasso Regression MAE: {mae_lasso}, MSE: {mse_lasso}\")"
   ]
  },
  {
   "cell_type": "code",
   "execution_count": null,
   "id": "77ed816d",
   "metadata": {},
   "outputs": [],
   "source": []
  }
 ],
 "metadata": {
  "kernelspec": {
   "display_name": "Python 3 (ipykernel)",
   "language": "python",
   "name": "python3"
  },
  "language_info": {
   "codemirror_mode": {
    "name": "ipython",
    "version": 3
   },
   "file_extension": ".py",
   "mimetype": "text/x-python",
   "name": "python",
   "nbconvert_exporter": "python",
   "pygments_lexer": "ipython3",
   "version": "3.9.13"
  }
 },
 "nbformat": 4,
 "nbformat_minor": 5
}
