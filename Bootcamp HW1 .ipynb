{
 "cells": [
  {
   "cell_type": "code",
   "execution_count": 1,
   "id": "16f78e5c",
   "metadata": {},
   "outputs": [
    {
     "name": "stdout",
     "output_type": "stream",
     "text": [
      "2\n",
      "3\n"
     ]
    }
   ],
   "source": [
    "def count_vowels(word):\n",
    "    vowels = 'aeiouAEIOU'\n",
    "    return sum(1 for char in word if char in vowels)\n",
    "word = \"apple\"\n",
    "print(count_vowels(word))\n",
    "word = \"Elephant\"\n",
    "print(count_vowels(word))"
   ]
  },
  {
   "cell_type": "code",
   "execution_count": 2,
   "id": "f9e6ce91",
   "metadata": {},
   "outputs": [
    {
     "name": "stdout",
     "output_type": "stream",
     "text": [
      "'TIGER', 'ELEPHANT', 'MONKEY', 'ZEBRA', 'PANTHER']\n"
     ]
    }
   ],
   "source": [
    "s =\"'tiger', 'elephant', 'monkey', 'zebra', 'panther']\"\n",
    "print(s.upper())"
   ]
  },
  {
   "cell_type": "code",
   "execution_count": 3,
   "id": "4fdf6ddd",
   "metadata": {},
   "outputs": [
    {
     "name": "stdout",
     "output_type": "stream",
     "text": [
      "1 is odd\n",
      "2 is even\n",
      "3 is odd\n",
      "4 is even\n",
      "5 is odd\n",
      "6 is even\n",
      "7 is odd\n",
      "8 is even\n",
      "9 is odd\n",
      "10 is even\n",
      "11 is odd\n",
      "12 is even\n",
      "13 is odd\n",
      "14 is even\n",
      "15 is odd\n",
      "16 is even\n",
      "17 is odd\n",
      "18 is even\n",
      "19 is odd\n",
      "20 is even\n"
     ]
    }
   ],
   "source": [
    "def test_even_number(number):\n",
    "    return number%2==0\n",
    "for number in range(1,21):\n",
    "    if test_even_number(number):\n",
    "        print(f\"{number} is even\")\n",
    "    else:\n",
    "        print(f\"{number} is odd\")"
   ]
  },
  {
   "cell_type": "code",
   "execution_count": 4,
   "id": "ff233c66",
   "metadata": {},
   "outputs": [
    {
     "name": "stdout",
     "output_type": "stream",
     "text": [
      "The sum is: 8\n"
     ]
    }
   ],
   "source": [
    "def sum_of_integers(a, b):\n",
    "    return a + b\n",
    "a = 5\n",
    "b = 3\n",
    "print(\"The sum is:\", sum_of_integers(a, b))"
   ]
  },
  {
   "cell_type": "code",
   "execution_count": null,
   "id": "fd73919b",
   "metadata": {},
   "outputs": [],
   "source": []
  }
 ],
 "metadata": {
  "kernelspec": {
   "display_name": "Python 3 (ipykernel)",
   "language": "python",
   "name": "python3"
  },
  "language_info": {
   "codemirror_mode": {
    "name": "ipython",
    "version": 3
   },
   "file_extension": ".py",
   "mimetype": "text/x-python",
   "name": "python",
   "nbconvert_exporter": "python",
   "pygments_lexer": "ipython3",
   "version": "3.9.13"
  }
 },
 "nbformat": 4,
 "nbformat_minor": 5
}
